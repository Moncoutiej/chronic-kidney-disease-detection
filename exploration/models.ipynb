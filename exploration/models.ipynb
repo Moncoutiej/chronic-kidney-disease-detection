{
 "cells": [
  {
   "cell_type": "markdown",
   "metadata": {},
   "source": [
    "# Processing and Model Comparisons Notebook\n",
    "In this notebook we compare differents methods to predict precence of CKD according to provided features."
   ]
  },
  {
   "cell_type": "markdown",
   "metadata": {},
   "source": [
    "## Imports"
   ]
  },
  {
   "cell_type": "code",
   "execution_count": 1,
   "metadata": {},
   "outputs": [],
   "source": [
    "# Global Tools\n",
    "import json\n",
    "import os\n",
    "from tqdm import tqdm\n",
    "\n",
    "# Math / Data Manipulation\n",
    "import numpy as np\n",
    "from scipy.io import arff\n",
    "import pandas as pd\n",
    "import math\n",
    "\n",
    "# Preprocessing / Modeling\n",
    "from sklearn.preprocessing import OneHotEncoder, LabelEncoder\n",
    "from sklearn.model_selection import KFold, cross_validate, train_test_split\n",
    "from sklearn.linear_model import LogisticRegression\n",
    "from sklearn.neighbors import KNeighborsClassifier\n",
    "from sklearn.svm import SVC\n",
    "from sklearn.ensemble import RandomForestClassifier\n",
    "from sklearn.naive_bayes import GaussianNB\n",
    "import xgboost as xgb\n",
    "from sklearn.utils import class_weight\n",
    "from sklearn.metrics import classification_report, confusion_matrix, ConfusionMatrixDisplay\n",
    "\n",
    "# Viz\n",
    "import plotly.express as px\n",
    "import plotly.graph_objects as go\n",
    "import matplotlib.pyplot as plt\n"
   ]
  },
  {
   "cell_type": "markdown",
   "metadata": {},
   "source": [
    "## Load Config"
   ]
  },
  {
   "cell_type": "code",
   "execution_count": 2,
   "metadata": {},
   "outputs": [],
   "source": [
    "with open('../config.json', 'r') as f:\n",
    "  config = json.load(f)\n",
    "  \n",
    "ROOT = os.path.dirname(os.path.abspath(os.path.curdir))"
   ]
  },
  {
   "cell_type": "markdown",
   "metadata": {},
   "source": [
    "\n",
    "## Load Dataset\n"
   ]
  },
  {
   "cell_type": "code",
   "execution_count": 3,
   "metadata": {},
   "outputs": [
    {
     "name": "stdout",
     "output_type": "stream",
     "text": [
      "Dataset Shape : (400, 25)\n"
     ]
    },
    {
     "data": {
      "text/html": [
       "<div>\n",
       "<style scoped>\n",
       "    .dataframe tbody tr th:only-of-type {\n",
       "        vertical-align: middle;\n",
       "    }\n",
       "\n",
       "    .dataframe tbody tr th {\n",
       "        vertical-align: top;\n",
       "    }\n",
       "\n",
       "    .dataframe thead th {\n",
       "        text-align: right;\n",
       "    }\n",
       "</style>\n",
       "<table border=\"1\" class=\"dataframe\">\n",
       "  <thead>\n",
       "    <tr style=\"text-align: right;\">\n",
       "      <th></th>\n",
       "      <th>age</th>\n",
       "      <th>bp</th>\n",
       "      <th>sg</th>\n",
       "      <th>al</th>\n",
       "      <th>su</th>\n",
       "      <th>rbc</th>\n",
       "      <th>pc</th>\n",
       "      <th>pcc</th>\n",
       "      <th>ba</th>\n",
       "      <th>bgr</th>\n",
       "      <th>...</th>\n",
       "      <th>pcv</th>\n",
       "      <th>wbcc</th>\n",
       "      <th>rbcc</th>\n",
       "      <th>htn</th>\n",
       "      <th>dm</th>\n",
       "      <th>cad</th>\n",
       "      <th>appet</th>\n",
       "      <th>pe</th>\n",
       "      <th>ane</th>\n",
       "      <th>class</th>\n",
       "    </tr>\n",
       "  </thead>\n",
       "  <tbody>\n",
       "    <tr>\n",
       "      <th>0</th>\n",
       "      <td>48.0</td>\n",
       "      <td>80.0</td>\n",
       "      <td>b'1.020'</td>\n",
       "      <td>b'1'</td>\n",
       "      <td>b'0'</td>\n",
       "      <td>b'?'</td>\n",
       "      <td>b'normal'</td>\n",
       "      <td>b'notpresent'</td>\n",
       "      <td>b'notpresent'</td>\n",
       "      <td>121.0</td>\n",
       "      <td>...</td>\n",
       "      <td>44.0</td>\n",
       "      <td>7800.0</td>\n",
       "      <td>5.2</td>\n",
       "      <td>b'yes'</td>\n",
       "      <td>b'yes'</td>\n",
       "      <td>b'no'</td>\n",
       "      <td>b'good'</td>\n",
       "      <td>b'no'</td>\n",
       "      <td>b'no'</td>\n",
       "      <td>b'ckd'</td>\n",
       "    </tr>\n",
       "    <tr>\n",
       "      <th>1</th>\n",
       "      <td>7.0</td>\n",
       "      <td>50.0</td>\n",
       "      <td>b'1.020'</td>\n",
       "      <td>b'4'</td>\n",
       "      <td>b'0'</td>\n",
       "      <td>b'?'</td>\n",
       "      <td>b'normal'</td>\n",
       "      <td>b'notpresent'</td>\n",
       "      <td>b'notpresent'</td>\n",
       "      <td>NaN</td>\n",
       "      <td>...</td>\n",
       "      <td>38.0</td>\n",
       "      <td>6000.0</td>\n",
       "      <td>NaN</td>\n",
       "      <td>b'no'</td>\n",
       "      <td>b'no'</td>\n",
       "      <td>b'no'</td>\n",
       "      <td>b'good'</td>\n",
       "      <td>b'no'</td>\n",
       "      <td>b'no'</td>\n",
       "      <td>b'ckd'</td>\n",
       "    </tr>\n",
       "    <tr>\n",
       "      <th>2</th>\n",
       "      <td>62.0</td>\n",
       "      <td>80.0</td>\n",
       "      <td>b'1.010'</td>\n",
       "      <td>b'2'</td>\n",
       "      <td>b'3'</td>\n",
       "      <td>b'normal'</td>\n",
       "      <td>b'normal'</td>\n",
       "      <td>b'notpresent'</td>\n",
       "      <td>b'notpresent'</td>\n",
       "      <td>423.0</td>\n",
       "      <td>...</td>\n",
       "      <td>31.0</td>\n",
       "      <td>7500.0</td>\n",
       "      <td>NaN</td>\n",
       "      <td>b'no'</td>\n",
       "      <td>b'yes'</td>\n",
       "      <td>b'no'</td>\n",
       "      <td>b'poor'</td>\n",
       "      <td>b'no'</td>\n",
       "      <td>b'yes'</td>\n",
       "      <td>b'ckd'</td>\n",
       "    </tr>\n",
       "    <tr>\n",
       "      <th>3</th>\n",
       "      <td>48.0</td>\n",
       "      <td>70.0</td>\n",
       "      <td>b'1.005'</td>\n",
       "      <td>b'4'</td>\n",
       "      <td>b'0'</td>\n",
       "      <td>b'normal'</td>\n",
       "      <td>b'abnormal'</td>\n",
       "      <td>b'present'</td>\n",
       "      <td>b'notpresent'</td>\n",
       "      <td>117.0</td>\n",
       "      <td>...</td>\n",
       "      <td>32.0</td>\n",
       "      <td>6700.0</td>\n",
       "      <td>3.9</td>\n",
       "      <td>b'yes'</td>\n",
       "      <td>b'no'</td>\n",
       "      <td>b'no'</td>\n",
       "      <td>b'poor'</td>\n",
       "      <td>b'yes'</td>\n",
       "      <td>b'yes'</td>\n",
       "      <td>b'ckd'</td>\n",
       "    </tr>\n",
       "    <tr>\n",
       "      <th>4</th>\n",
       "      <td>51.0</td>\n",
       "      <td>80.0</td>\n",
       "      <td>b'1.010'</td>\n",
       "      <td>b'2'</td>\n",
       "      <td>b'0'</td>\n",
       "      <td>b'normal'</td>\n",
       "      <td>b'normal'</td>\n",
       "      <td>b'notpresent'</td>\n",
       "      <td>b'notpresent'</td>\n",
       "      <td>106.0</td>\n",
       "      <td>...</td>\n",
       "      <td>35.0</td>\n",
       "      <td>7300.0</td>\n",
       "      <td>4.6</td>\n",
       "      <td>b'no'</td>\n",
       "      <td>b'no'</td>\n",
       "      <td>b'no'</td>\n",
       "      <td>b'good'</td>\n",
       "      <td>b'no'</td>\n",
       "      <td>b'no'</td>\n",
       "      <td>b'ckd'</td>\n",
       "    </tr>\n",
       "  </tbody>\n",
       "</table>\n",
       "<p>5 rows × 25 columns</p>\n",
       "</div>"
      ],
      "text/plain": [
       "    age    bp        sg    al    su        rbc           pc            pcc  \\\n",
       "0  48.0  80.0  b'1.020'  b'1'  b'0'       b'?'    b'normal'  b'notpresent'   \n",
       "1   7.0  50.0  b'1.020'  b'4'  b'0'       b'?'    b'normal'  b'notpresent'   \n",
       "2  62.0  80.0  b'1.010'  b'2'  b'3'  b'normal'    b'normal'  b'notpresent'   \n",
       "3  48.0  70.0  b'1.005'  b'4'  b'0'  b'normal'  b'abnormal'     b'present'   \n",
       "4  51.0  80.0  b'1.010'  b'2'  b'0'  b'normal'    b'normal'  b'notpresent'   \n",
       "\n",
       "              ba    bgr  ...   pcv    wbcc  rbcc     htn      dm    cad  \\\n",
       "0  b'notpresent'  121.0  ...  44.0  7800.0   5.2  b'yes'  b'yes'  b'no'   \n",
       "1  b'notpresent'    NaN  ...  38.0  6000.0   NaN   b'no'   b'no'  b'no'   \n",
       "2  b'notpresent'  423.0  ...  31.0  7500.0   NaN   b'no'  b'yes'  b'no'   \n",
       "3  b'notpresent'  117.0  ...  32.0  6700.0   3.9  b'yes'   b'no'  b'no'   \n",
       "4  b'notpresent'  106.0  ...  35.0  7300.0   4.6   b'no'   b'no'  b'no'   \n",
       "\n",
       "     appet      pe     ane   class  \n",
       "0  b'good'   b'no'   b'no'  b'ckd'  \n",
       "1  b'good'   b'no'   b'no'  b'ckd'  \n",
       "2  b'poor'   b'no'  b'yes'  b'ckd'  \n",
       "3  b'poor'  b'yes'  b'yes'  b'ckd'  \n",
       "4  b'good'   b'no'   b'no'  b'ckd'  \n",
       "\n",
       "[5 rows x 25 columns]"
      ]
     },
     "execution_count": 3,
     "metadata": {},
     "output_type": "execute_result"
    }
   ],
   "source": [
    "path_to_dataset_file = os.path.join(ROOT, config['dataset_dir'], config['dataset_file'])\n",
    "\n",
    "data = arff.loadarff(path_to_dataset_file) # Work with advices found here : https://stackoverflow.com/questions/62653514/open-an-arff-file-with-scipy-io\n",
    "df = pd.DataFrame(data[0])\n",
    "\n",
    "print(f\"Dataset Shape : {df.shape}\")\n",
    "df.head()\n"
   ]
  },
  {
   "cell_type": "markdown",
   "metadata": {},
   "source": [
    "\n",
    "\n",
    "## Some Preprocess"
   ]
  },
  {
   "cell_type": "code",
   "execution_count": 4,
   "metadata": {},
   "outputs": [
    {
     "data": {
      "text/html": [
       "<div>\n",
       "<style scoped>\n",
       "    .dataframe tbody tr th:only-of-type {\n",
       "        vertical-align: middle;\n",
       "    }\n",
       "\n",
       "    .dataframe tbody tr th {\n",
       "        vertical-align: top;\n",
       "    }\n",
       "\n",
       "    .dataframe thead th {\n",
       "        text-align: right;\n",
       "    }\n",
       "</style>\n",
       "<table border=\"1\" class=\"dataframe\">\n",
       "  <thead>\n",
       "    <tr style=\"text-align: right;\">\n",
       "      <th></th>\n",
       "      <th>age</th>\n",
       "      <th>blood_pressure</th>\n",
       "      <th>specific_gravity</th>\n",
       "      <th>albumin</th>\n",
       "      <th>sugar</th>\n",
       "      <th>red_blood_cells</th>\n",
       "      <th>pus_cell</th>\n",
       "      <th>pus_cell_clumps</th>\n",
       "      <th>bacteria</th>\n",
       "      <th>blood_glucose_random</th>\n",
       "      <th>...</th>\n",
       "      <th>packed_cell_volume</th>\n",
       "      <th>white_blood_cell_count</th>\n",
       "      <th>red_blood_cell_count</th>\n",
       "      <th>hypertension</th>\n",
       "      <th>diabetes_mellitus</th>\n",
       "      <th>coronary_artery_disease</th>\n",
       "      <th>appetite</th>\n",
       "      <th>pedal_edema</th>\n",
       "      <th>anemia</th>\n",
       "      <th>class</th>\n",
       "    </tr>\n",
       "  </thead>\n",
       "  <tbody>\n",
       "    <tr>\n",
       "      <th>3</th>\n",
       "      <td>48.0</td>\n",
       "      <td>70.0</td>\n",
       "      <td>1.005</td>\n",
       "      <td>4</td>\n",
       "      <td>0</td>\n",
       "      <td>normal</td>\n",
       "      <td>abnormal</td>\n",
       "      <td>present</td>\n",
       "      <td>notpresent</td>\n",
       "      <td>117.0</td>\n",
       "      <td>...</td>\n",
       "      <td>32.0</td>\n",
       "      <td>6700.0</td>\n",
       "      <td>3.9</td>\n",
       "      <td>yes</td>\n",
       "      <td>no</td>\n",
       "      <td>no</td>\n",
       "      <td>poor</td>\n",
       "      <td>yes</td>\n",
       "      <td>yes</td>\n",
       "      <td>ckd</td>\n",
       "    </tr>\n",
       "    <tr>\n",
       "      <th>5</th>\n",
       "      <td>60.0</td>\n",
       "      <td>90.0</td>\n",
       "      <td>1.015</td>\n",
       "      <td>3</td>\n",
       "      <td>0</td>\n",
       "      <td>?</td>\n",
       "      <td>?</td>\n",
       "      <td>notpresent</td>\n",
       "      <td>notpresent</td>\n",
       "      <td>74.0</td>\n",
       "      <td>...</td>\n",
       "      <td>39.0</td>\n",
       "      <td>7800.0</td>\n",
       "      <td>4.4</td>\n",
       "      <td>yes</td>\n",
       "      <td>yes</td>\n",
       "      <td>no</td>\n",
       "      <td>good</td>\n",
       "      <td>yes</td>\n",
       "      <td>no</td>\n",
       "      <td>ckd</td>\n",
       "    </tr>\n",
       "    <tr>\n",
       "      <th>9</th>\n",
       "      <td>53.0</td>\n",
       "      <td>90.0</td>\n",
       "      <td>1.020</td>\n",
       "      <td>2</td>\n",
       "      <td>0</td>\n",
       "      <td>abnormal</td>\n",
       "      <td>abnormal</td>\n",
       "      <td>present</td>\n",
       "      <td>notpresent</td>\n",
       "      <td>70.0</td>\n",
       "      <td>...</td>\n",
       "      <td>29.0</td>\n",
       "      <td>12100.0</td>\n",
       "      <td>3.7</td>\n",
       "      <td>yes</td>\n",
       "      <td>yes</td>\n",
       "      <td>no</td>\n",
       "      <td>poor</td>\n",
       "      <td>no</td>\n",
       "      <td>yes</td>\n",
       "      <td>ckd</td>\n",
       "    </tr>\n",
       "    <tr>\n",
       "      <th>11</th>\n",
       "      <td>63.0</td>\n",
       "      <td>70.0</td>\n",
       "      <td>1.010</td>\n",
       "      <td>3</td>\n",
       "      <td>0</td>\n",
       "      <td>abnormal</td>\n",
       "      <td>abnormal</td>\n",
       "      <td>present</td>\n",
       "      <td>notpresent</td>\n",
       "      <td>380.0</td>\n",
       "      <td>...</td>\n",
       "      <td>32.0</td>\n",
       "      <td>4500.0</td>\n",
       "      <td>3.8</td>\n",
       "      <td>yes</td>\n",
       "      <td>yes</td>\n",
       "      <td>no</td>\n",
       "      <td>poor</td>\n",
       "      <td>yes</td>\n",
       "      <td>no</td>\n",
       "      <td>ckd</td>\n",
       "    </tr>\n",
       "    <tr>\n",
       "      <th>12</th>\n",
       "      <td>68.0</td>\n",
       "      <td>70.0</td>\n",
       "      <td>1.015</td>\n",
       "      <td>3</td>\n",
       "      <td>1</td>\n",
       "      <td>?</td>\n",
       "      <td>normal</td>\n",
       "      <td>present</td>\n",
       "      <td>notpresent</td>\n",
       "      <td>208.0</td>\n",
       "      <td>...</td>\n",
       "      <td>28.0</td>\n",
       "      <td>12200.0</td>\n",
       "      <td>3.4</td>\n",
       "      <td>yes</td>\n",
       "      <td>yes</td>\n",
       "      <td>yes</td>\n",
       "      <td>poor</td>\n",
       "      <td>yes</td>\n",
       "      <td>no</td>\n",
       "      <td>ckd</td>\n",
       "    </tr>\n",
       "  </tbody>\n",
       "</table>\n",
       "<p>5 rows × 25 columns</p>\n",
       "</div>"
      ],
      "text/plain": [
       "     age  blood_pressure specific_gravity albumin sugar red_blood_cells  \\\n",
       "3   48.0            70.0            1.005       4     0          normal   \n",
       "5   60.0            90.0            1.015       3     0               ?   \n",
       "9   53.0            90.0            1.020       2     0        abnormal   \n",
       "11  63.0            70.0            1.010       3     0        abnormal   \n",
       "12  68.0            70.0            1.015       3     1               ?   \n",
       "\n",
       "    pus_cell pus_cell_clumps    bacteria  blood_glucose_random  ...  \\\n",
       "3   abnormal         present  notpresent                 117.0  ...   \n",
       "5          ?      notpresent  notpresent                  74.0  ...   \n",
       "9   abnormal         present  notpresent                  70.0  ...   \n",
       "11  abnormal         present  notpresent                 380.0  ...   \n",
       "12    normal         present  notpresent                 208.0  ...   \n",
       "\n",
       "    packed_cell_volume  white_blood_cell_count  red_blood_cell_count  \\\n",
       "3                 32.0                  6700.0                   3.9   \n",
       "5                 39.0                  7800.0                   4.4   \n",
       "9                 29.0                 12100.0                   3.7   \n",
       "11                32.0                  4500.0                   3.8   \n",
       "12                28.0                 12200.0                   3.4   \n",
       "\n",
       "    hypertension  diabetes_mellitus  coronary_artery_disease  appetite  \\\n",
       "3            yes                 no                       no      poor   \n",
       "5            yes                yes                       no      good   \n",
       "9            yes                yes                       no      poor   \n",
       "11           yes                yes                       no      poor   \n",
       "12           yes                yes                      yes      poor   \n",
       "\n",
       "    pedal_edema anemia class  \n",
       "3           yes    yes   ckd  \n",
       "5           yes     no   ckd  \n",
       "9            no    yes   ckd  \n",
       "11          yes     no   ckd  \n",
       "12          yes     no   ckd  \n",
       "\n",
       "[5 rows x 25 columns]"
      ]
     },
     "execution_count": 4,
     "metadata": {},
     "output_type": "execute_result"
    }
   ],
   "source": [
    "# Rename column names with dataset info file to make it more understandable\n",
    "path_to_info_file = os.path.join(ROOT, config['dataset_dir'], config['dataset_info_file'])\n",
    "with open(path_to_info_file) as info_file:\n",
    "    columns_and_desc = info_file.readlines()[31:56]\n",
    "columns_names = map(lambda s : s.split('-')[1].strip().replace(' ', '_'), columns_and_desc)\n",
    "df.columns = columns_names\n",
    "\n",
    "# Decode byte to utf8\n",
    "str_df = df.select_dtypes([object])\n",
    "str_df = str_df.stack().str.decode('utf-8').unstack()\n",
    "for col in str_df:\n",
    "    df[col] = str_df[col]\n",
    "\n",
    "# Drop empty values\n",
    "df = df.dropna()\n",
    "\n",
    "df.head()\n"
   ]
  },
  {
   "cell_type": "markdown",
   "metadata": {},
   "source": [
    "## Features Encoding"
   ]
  },
  {
   "cell_type": "code",
   "execution_count": 5,
   "metadata": {},
   "outputs": [],
   "source": [
    "target_col = config.get(\"target_col\")\n",
    "X = df[df.columns.difference([target_col])]\n",
    "y = df[target_col]"
   ]
  },
  {
   "cell_type": "code",
   "execution_count": 6,
   "metadata": {},
   "outputs": [
    {
     "name": "stdout",
     "output_type": "stream",
     "text": [
      "Number of categorical cols : 13, Number of numerical cols : 11\n"
     ]
    }
   ],
   "source": [
    "categorical_cols = [col for col in X.columns if X[col].dtype == 'object']\n",
    "numerical_cols = [col for col in X.columns if X[col].dtype != 'object']\n",
    "print(f\"Number of categorical cols : {len(categorical_cols)}, Number of numerical cols : {len(numerical_cols)}\")"
   ]
  },
  {
   "cell_type": "code",
   "execution_count": 7,
   "metadata": {},
   "outputs": [
    {
     "name": "stdout",
     "output_type": "stream",
     "text": [
      "Categorical Feature Encoding : 24 Features --> 60 Features\n"
     ]
    }
   ],
   "source": [
    "old_features = X.columns\n",
    "X = pd.get_dummies(X, columns=categorical_cols)\n",
    "new_features = X.columns\n",
    "print(f\"Categorical Feature Encoding : {len(old_features)} Features --> {len(new_features)} Features\")"
   ]
  },
  {
   "cell_type": "code",
   "execution_count": 8,
   "metadata": {},
   "outputs": [],
   "source": [
    "y = pd.Categorical(y)"
   ]
  },
  {
   "cell_type": "markdown",
   "metadata": {},
   "source": [
    "## Split Train - Test"
   ]
  },
  {
   "cell_type": "code",
   "execution_count": 9,
   "metadata": {},
   "outputs": [],
   "source": [
    "X_train, X_test, y_train, y_test = train_test_split(X, y.codes, test_size=config.get(\"test_size\", 0.25), random_state=config.get(\"random_seed\", 42))\n"
   ]
  },
  {
   "cell_type": "markdown",
   "metadata": {},
   "source": [
    "## Models Comparison"
   ]
  },
  {
   "cell_type": "code",
   "execution_count": 10,
   "metadata": {},
   "outputs": [],
   "source": [
    "models = [\n",
    "          ('RF', RandomForestClassifier()),\n",
    "          ('KNN', KNeighborsClassifier()),\n",
    "          ('SVM', SVC()), \n",
    "          ('GNB', GaussianNB()),\n",
    "          ('XGB', xgb.XGBClassifier())\n",
    "        ]\n",
    "\n",
    "scoring = ['accuracy', 'precision_weighted', 'recall_weighted', 'f1_weighted', 'roc_auc']"
   ]
  },
  {
   "cell_type": "code",
   "execution_count": 11,
   "metadata": {},
   "outputs": [
    {
     "name": "stderr",
     "output_type": "stream",
     "text": [
      "100%|██████████| 5/5 [00:01<00:00,  4.57it/s]\n"
     ]
    }
   ],
   "source": [
    "\n",
    "cv_dfs = []\n",
    "\n",
    "for name, model in tqdm(models):\n",
    "    kfold = KFold(n_splits=5, shuffle=True, random_state=config.get(\"random_seed\", 42))\n",
    "    cv_results = cross_validate(model, X_train, y_train, cv=kfold, scoring=scoring)\n",
    "    cv_df = pd.DataFrame(cv_results)\n",
    "    cv_df[\"model\"] = name\n",
    "    cv_dfs.append(cv_df)\n",
    "\n",
    "df_results = pd.concat(cv_dfs, ignore_index=True)\n"
   ]
  },
  {
   "cell_type": "code",
   "execution_count": 12,
   "metadata": {},
   "outputs": [
    {
     "data": {
      "text/html": [
       "<style type=\"text/css\">\n",
       "#T_062c8_row0_col0 {\n",
       "  background-color: #81aed2;\n",
       "  color: #f1f1f1;\n",
       "}\n",
       "#T_062c8_row0_col1 {\n",
       "  background-color: #f0eaf4;\n",
       "  color: #000000;\n",
       "}\n",
       "#T_062c8_row0_col2, #T_062c8_row0_col3, #T_062c8_row0_col4, #T_062c8_row0_col5, #T_062c8_row0_col6, #T_062c8_row2_col0, #T_062c8_row2_col6, #T_062c8_row3_col1 {\n",
       "  background-color: #023858;\n",
       "  color: #f1f1f1;\n",
       "}\n",
       "#T_062c8_row1_col0, #T_062c8_row1_col1, #T_062c8_row3_col0, #T_062c8_row3_col6, #T_062c8_row4_col2, #T_062c8_row4_col3, #T_062c8_row4_col4, #T_062c8_row4_col5 {\n",
       "  background-color: #fff7fb;\n",
       "  color: #000000;\n",
       "}\n",
       "#T_062c8_row1_col2, #T_062c8_row1_col4 {\n",
       "  background-color: #03476f;\n",
       "  color: #f1f1f1;\n",
       "}\n",
       "#T_062c8_row1_col3, #T_062c8_row1_col5 {\n",
       "  background-color: #03466e;\n",
       "  color: #f1f1f1;\n",
       "}\n",
       "#T_062c8_row1_col6 {\n",
       "  background-color: #02395a;\n",
       "  color: #f1f1f1;\n",
       "}\n",
       "#T_062c8_row2_col1 {\n",
       "  background-color: #faf3f9;\n",
       "  color: #000000;\n",
       "}\n",
       "#T_062c8_row2_col2, #T_062c8_row2_col4 {\n",
       "  background-color: #045b8f;\n",
       "  color: #f1f1f1;\n",
       "}\n",
       "#T_062c8_row2_col3 {\n",
       "  background-color: #045a8d;\n",
       "  color: #f1f1f1;\n",
       "}\n",
       "#T_062c8_row2_col5 {\n",
       "  background-color: #045b8e;\n",
       "  color: #f1f1f1;\n",
       "}\n",
       "#T_062c8_row3_col2, #T_062c8_row3_col4, #T_062c8_row3_col5 {\n",
       "  background-color: #e7e3f0;\n",
       "  color: #000000;\n",
       "}\n",
       "#T_062c8_row3_col3 {\n",
       "  background-color: #d1d2e6;\n",
       "  color: #000000;\n",
       "}\n",
       "#T_062c8_row4_col0 {\n",
       "  background-color: #fef6fa;\n",
       "  color: #000000;\n",
       "}\n",
       "#T_062c8_row4_col1 {\n",
       "  background-color: #fdf5fa;\n",
       "  color: #000000;\n",
       "}\n",
       "#T_062c8_row4_col6 {\n",
       "  background-color: #e8e4f0;\n",
       "  color: #000000;\n",
       "}\n",
       "</style>\n",
       "<table id=\"T_062c8\">\n",
       "  <thead>\n",
       "    <tr>\n",
       "      <th class=\"blank level0\" >&nbsp;</th>\n",
       "      <th id=\"T_062c8_level0_col0\" class=\"col_heading level0 col0\" >fit_time</th>\n",
       "      <th id=\"T_062c8_level0_col1\" class=\"col_heading level0 col1\" >score_time</th>\n",
       "      <th id=\"T_062c8_level0_col2\" class=\"col_heading level0 col2\" >test_accuracy</th>\n",
       "      <th id=\"T_062c8_level0_col3\" class=\"col_heading level0 col3\" >test_precision_weighted</th>\n",
       "      <th id=\"T_062c8_level0_col4\" class=\"col_heading level0 col4\" >test_recall_weighted</th>\n",
       "      <th id=\"T_062c8_level0_col5\" class=\"col_heading level0 col5\" >test_f1_weighted</th>\n",
       "      <th id=\"T_062c8_level0_col6\" class=\"col_heading level0 col6\" >test_roc_auc</th>\n",
       "    </tr>\n",
       "    <tr>\n",
       "      <th class=\"index_name level0\" >model</th>\n",
       "      <th class=\"blank col0\" >&nbsp;</th>\n",
       "      <th class=\"blank col1\" >&nbsp;</th>\n",
       "      <th class=\"blank col2\" >&nbsp;</th>\n",
       "      <th class=\"blank col3\" >&nbsp;</th>\n",
       "      <th class=\"blank col4\" >&nbsp;</th>\n",
       "      <th class=\"blank col5\" >&nbsp;</th>\n",
       "      <th class=\"blank col6\" >&nbsp;</th>\n",
       "    </tr>\n",
       "  </thead>\n",
       "  <tbody>\n",
       "    <tr>\n",
       "      <th id=\"T_062c8_level0_row0\" class=\"row_heading level0 row0\" >RF</th>\n",
       "      <td id=\"T_062c8_row0_col0\" class=\"data row0 col0\" >0.042567</td>\n",
       "      <td id=\"T_062c8_row0_col1\" class=\"data row0 col1\" >0.008095</td>\n",
       "      <td id=\"T_062c8_row0_col2\" class=\"data row0 col2\" >1.000000</td>\n",
       "      <td id=\"T_062c8_row0_col3\" class=\"data row0 col3\" >1.000000</td>\n",
       "      <td id=\"T_062c8_row0_col4\" class=\"data row0 col4\" >1.000000</td>\n",
       "      <td id=\"T_062c8_row0_col5\" class=\"data row0 col5\" >1.000000</td>\n",
       "      <td id=\"T_062c8_row0_col6\" class=\"data row0 col6\" >1.000000</td>\n",
       "    </tr>\n",
       "    <tr>\n",
       "      <th id=\"T_062c8_level0_row1\" class=\"row_heading level0 row1\" >GNB</th>\n",
       "      <td id=\"T_062c8_row1_col0\" class=\"data row1 col0\" >0.000928</td>\n",
       "      <td id=\"T_062c8_row1_col1\" class=\"data row1 col1\" >0.002269</td>\n",
       "      <td id=\"T_062c8_row1_col2\" class=\"data row1 col2\" >0.981250</td>\n",
       "      <td id=\"T_062c8_row1_col3\" class=\"data row1 col3\" >0.984559</td>\n",
       "      <td id=\"T_062c8_row1_col4\" class=\"data row1 col4\" >0.981250</td>\n",
       "      <td id=\"T_062c8_row1_col5\" class=\"data row1 col5\" >0.981305</td>\n",
       "      <td id=\"T_062c8_row1_col6\" class=\"data row1 col6\" >0.998413</td>\n",
       "    </tr>\n",
       "    <tr>\n",
       "      <th id=\"T_062c8_level0_row2\" class=\"row_heading level0 row2\" >XGB</th>\n",
       "      <td id=\"T_062c8_row2_col0\" class=\"data row2 col0\" >0.090203</td>\n",
       "      <td id=\"T_062c8_row2_col1\" class=\"data row2 col1\" >0.004325</td>\n",
       "      <td id=\"T_062c8_row2_col2\" class=\"data row2 col2\" >0.956439</td>\n",
       "      <td id=\"T_062c8_row2_col3\" class=\"data row2 col3\" >0.963887</td>\n",
       "      <td id=\"T_062c8_row2_col4\" class=\"data row2 col4\" >0.956439</td>\n",
       "      <td id=\"T_062c8_row2_col5\" class=\"data row2 col5\" >0.954826</td>\n",
       "      <td id=\"T_062c8_row2_col6\" class=\"data row2 col6\" >1.000000</td>\n",
       "    </tr>\n",
       "    <tr>\n",
       "      <th id=\"T_062c8_level0_row3\" class=\"row_heading level0 row3\" >KNN</th>\n",
       "      <td id=\"T_062c8_row3_col0\" class=\"data row3 col0\" >0.001194</td>\n",
       "      <td id=\"T_062c8_row3_col1\" class=\"data row3 col1\" >0.061341</td>\n",
       "      <td id=\"T_062c8_row3_col2\" class=\"data row3 col2\" >0.727083</td>\n",
       "      <td id=\"T_062c8_row3_col3\" class=\"data row3 col3\" >0.786862</td>\n",
       "      <td id=\"T_062c8_row3_col4\" class=\"data row3 col4\" >0.727083</td>\n",
       "      <td id=\"T_062c8_row3_col5\" class=\"data row3 col5\" >0.703683</td>\n",
       "      <td id=\"T_062c8_row3_col6\" class=\"data row3 col6\" >0.694896</td>\n",
       "    </tr>\n",
       "    <tr>\n",
       "      <th id=\"T_062c8_level0_row4\" class=\"row_heading level0 row4\" >SVM</th>\n",
       "      <td id=\"T_062c8_row4_col0\" class=\"data row4 col0\" >0.001895</td>\n",
       "      <td id=\"T_062c8_row4_col1\" class=\"data row4 col1\" >0.003095</td>\n",
       "      <td id=\"T_062c8_row4_col2\" class=\"data row4 col2\" >0.678220</td>\n",
       "      <td id=\"T_062c8_row4_col3\" class=\"data row4 col3\" >0.715891</td>\n",
       "      <td id=\"T_062c8_row4_col4\" class=\"data row4 col4\" >0.678220</td>\n",
       "      <td id=\"T_062c8_row4_col5\" class=\"data row4 col5\" >0.652807</td>\n",
       "      <td id=\"T_062c8_row4_col6\" class=\"data row4 col6\" >0.738294</td>\n",
       "    </tr>\n",
       "  </tbody>\n",
       "</table>\n"
      ],
      "text/plain": [
       "<pandas.io.formats.style.Styler at 0x1064df640>"
      ]
     },
     "execution_count": 12,
     "metadata": {},
     "output_type": "execute_result"
    }
   ],
   "source": [
    "df_results.groupby(\"model\").mean().sort_values(by=['test_f1_weighted'], ascending=False).style.background_gradient()"
   ]
  },
  {
   "cell_type": "code",
   "execution_count": 13,
   "metadata": {},
   "outputs": [
    {
     "data": {
      "application/vnd.plotly.v1+json": {
       "config": {
        "plotlyServerURL": "https://plot.ly"
       },
       "data": [
        {
         "marker": {
          "color": "rgba(93, 164, 214, 0.5)"
         },
         "name": "test_accuracy",
         "type": "box",
         "x": [
          "RF",
          "RF",
          "RF",
          "RF",
          "RF",
          "KNN",
          "KNN",
          "KNN",
          "KNN",
          "KNN",
          "SVM",
          "SVM",
          "SVM",
          "SVM",
          "SVM",
          "GNB",
          "GNB",
          "GNB",
          "GNB",
          "GNB",
          "XGB",
          "XGB",
          "XGB",
          "XGB",
          "XGB"
         ],
         "y": [
          1,
          1,
          1,
          1,
          1,
          0.6666666666666666,
          0.71875,
          0.84375,
          0.6875,
          0.71875,
          0.48484848484848486,
          0.6875,
          0.8125,
          0.71875,
          0.6875,
          1,
          1,
          1,
          0.90625,
          1,
          0.9696969696969697,
          0.84375,
          0.96875,
          1,
          1
         ]
        },
        {
         "marker": {
          "color": "rgba(255, 144, 14, 0.5)"
         },
         "name": "test_precision_weighted",
         "type": "box",
         "x": [
          "RF",
          "RF",
          "RF",
          "RF",
          "RF",
          "KNN",
          "KNN",
          "KNN",
          "KNN",
          "KNN",
          "SVM",
          "SVM",
          "SVM",
          "SVM",
          "SVM",
          "GNB",
          "GNB",
          "GNB",
          "GNB",
          "GNB",
          "XGB",
          "XGB",
          "XGB",
          "XGB",
          "XGB"
         ],
         "y": [
          1,
          1,
          1,
          1,
          1,
          0.8133333333333334,
          0.8125,
          0.8388888888888888,
          0.7323717948717949,
          0.7372159090909091,
          0.5465151515151515,
          0.7323717948717949,
          0.8012820512820512,
          0.7575000000000001,
          0.7417857142857143,
          1,
          1,
          1,
          0.9227941176470589,
          1,
          0.9717171717171716,
          0.8777173913043479,
          0.97,
          1,
          1
         ]
        },
        {
         "marker": {
          "color": "rgba(44, 160, 101, 0.5)"
         },
         "name": "test_recall_weighted",
         "type": "box",
         "x": [
          "RF",
          "RF",
          "RF",
          "RF",
          "RF",
          "KNN",
          "KNN",
          "KNN",
          "KNN",
          "KNN",
          "SVM",
          "SVM",
          "SVM",
          "SVM",
          "SVM",
          "GNB",
          "GNB",
          "GNB",
          "GNB",
          "GNB",
          "XGB",
          "XGB",
          "XGB",
          "XGB",
          "XGB"
         ],
         "y": [
          1,
          1,
          1,
          1,
          1,
          0.6666666666666666,
          0.71875,
          0.84375,
          0.6875,
          0.71875,
          0.48484848484848486,
          0.6875,
          0.8125,
          0.71875,
          0.6875,
          1,
          1,
          1,
          0.90625,
          1,
          0.9696969696969697,
          0.84375,
          0.96875,
          1,
          1
         ]
        },
        {
         "marker": {
          "color": "rgba(255, 65, 54, 0.5)"
         },
         "name": "test_f1_weighted",
         "type": "box",
         "x": [
          "RF",
          "RF",
          "RF",
          "RF",
          "RF",
          "KNN",
          "KNN",
          "KNN",
          "KNN",
          "KNN",
          "SVM",
          "SVM",
          "SVM",
          "SVM",
          "SVM",
          "GNB",
          "GNB",
          "GNB",
          "GNB",
          "GNB",
          "XGB",
          "XGB",
          "XGB",
          "XGB",
          "XGB"
         ],
         "y": [
          1,
          1,
          1,
          1,
          1,
          0.6457739791073125,
          0.6802631578947369,
          0.830316742081448,
          0.6534090909090908,
          0.7086538461538462,
          0.45255978589311924,
          0.6534090909090908,
          0.8028571428571428,
          0.6947674418604651,
          0.6604437229437231,
          1,
          1,
          1,
          0.906524926686217,
          1,
          0.9698099353271767,
          0.8362937433722164,
          0.9680272108843537,
          1,
          1
         ]
        },
        {
         "marker": {
          "color": "rgba(207, 114, 255, 0.5)"
         },
         "name": "test_roc_auc",
         "type": "box",
         "x": [
          "RF",
          "RF",
          "RF",
          "RF",
          "RF",
          "KNN",
          "KNN",
          "KNN",
          "KNN",
          "KNN",
          "SVM",
          "SVM",
          "SVM",
          "SVM",
          "SVM",
          "GNB",
          "GNB",
          "GNB",
          "GNB",
          "GNB",
          "XGB",
          "XGB",
          "XGB",
          "XGB",
          "XGB"
         ],
         "y": [
          1,
          1,
          1,
          1,
          1,
          0.6842105263157895,
          0.623015873015873,
          0.71875,
          0.7896825396825397,
          0.6588235294117648,
          0.593984962406015,
          0.753968253968254,
          0.84375,
          0.8134920634920636,
          0.6862745098039216,
          1,
          1,
          1,
          0.9920634920634921,
          1,
          1,
          0.9999999999999999,
          1,
          1,
          1
         ]
        }
       ],
       "layout": {
        "boxmode": "group",
        "template": {
         "data": {
          "bar": [
           {
            "error_x": {
             "color": "#2a3f5f"
            },
            "error_y": {
             "color": "#2a3f5f"
            },
            "marker": {
             "line": {
              "color": "#E5ECF6",
              "width": 0.5
             },
             "pattern": {
              "fillmode": "overlay",
              "size": 10,
              "solidity": 0.2
             }
            },
            "type": "bar"
           }
          ],
          "barpolar": [
           {
            "marker": {
             "line": {
              "color": "#E5ECF6",
              "width": 0.5
             },
             "pattern": {
              "fillmode": "overlay",
              "size": 10,
              "solidity": 0.2
             }
            },
            "type": "barpolar"
           }
          ],
          "carpet": [
           {
            "aaxis": {
             "endlinecolor": "#2a3f5f",
             "gridcolor": "white",
             "linecolor": "white",
             "minorgridcolor": "white",
             "startlinecolor": "#2a3f5f"
            },
            "baxis": {
             "endlinecolor": "#2a3f5f",
             "gridcolor": "white",
             "linecolor": "white",
             "minorgridcolor": "white",
             "startlinecolor": "#2a3f5f"
            },
            "type": "carpet"
           }
          ],
          "choropleth": [
           {
            "colorbar": {
             "outlinewidth": 0,
             "ticks": ""
            },
            "type": "choropleth"
           }
          ],
          "contour": [
           {
            "colorbar": {
             "outlinewidth": 0,
             "ticks": ""
            },
            "colorscale": [
             [
              0,
              "#0d0887"
             ],
             [
              0.1111111111111111,
              "#46039f"
             ],
             [
              0.2222222222222222,
              "#7201a8"
             ],
             [
              0.3333333333333333,
              "#9c179e"
             ],
             [
              0.4444444444444444,
              "#bd3786"
             ],
             [
              0.5555555555555556,
              "#d8576b"
             ],
             [
              0.6666666666666666,
              "#ed7953"
             ],
             [
              0.7777777777777778,
              "#fb9f3a"
             ],
             [
              0.8888888888888888,
              "#fdca26"
             ],
             [
              1,
              "#f0f921"
             ]
            ],
            "type": "contour"
           }
          ],
          "contourcarpet": [
           {
            "colorbar": {
             "outlinewidth": 0,
             "ticks": ""
            },
            "type": "contourcarpet"
           }
          ],
          "heatmap": [
           {
            "colorbar": {
             "outlinewidth": 0,
             "ticks": ""
            },
            "colorscale": [
             [
              0,
              "#0d0887"
             ],
             [
              0.1111111111111111,
              "#46039f"
             ],
             [
              0.2222222222222222,
              "#7201a8"
             ],
             [
              0.3333333333333333,
              "#9c179e"
             ],
             [
              0.4444444444444444,
              "#bd3786"
             ],
             [
              0.5555555555555556,
              "#d8576b"
             ],
             [
              0.6666666666666666,
              "#ed7953"
             ],
             [
              0.7777777777777778,
              "#fb9f3a"
             ],
             [
              0.8888888888888888,
              "#fdca26"
             ],
             [
              1,
              "#f0f921"
             ]
            ],
            "type": "heatmap"
           }
          ],
          "heatmapgl": [
           {
            "colorbar": {
             "outlinewidth": 0,
             "ticks": ""
            },
            "colorscale": [
             [
              0,
              "#0d0887"
             ],
             [
              0.1111111111111111,
              "#46039f"
             ],
             [
              0.2222222222222222,
              "#7201a8"
             ],
             [
              0.3333333333333333,
              "#9c179e"
             ],
             [
              0.4444444444444444,
              "#bd3786"
             ],
             [
              0.5555555555555556,
              "#d8576b"
             ],
             [
              0.6666666666666666,
              "#ed7953"
             ],
             [
              0.7777777777777778,
              "#fb9f3a"
             ],
             [
              0.8888888888888888,
              "#fdca26"
             ],
             [
              1,
              "#f0f921"
             ]
            ],
            "type": "heatmapgl"
           }
          ],
          "histogram": [
           {
            "marker": {
             "pattern": {
              "fillmode": "overlay",
              "size": 10,
              "solidity": 0.2
             }
            },
            "type": "histogram"
           }
          ],
          "histogram2d": [
           {
            "colorbar": {
             "outlinewidth": 0,
             "ticks": ""
            },
            "colorscale": [
             [
              0,
              "#0d0887"
             ],
             [
              0.1111111111111111,
              "#46039f"
             ],
             [
              0.2222222222222222,
              "#7201a8"
             ],
             [
              0.3333333333333333,
              "#9c179e"
             ],
             [
              0.4444444444444444,
              "#bd3786"
             ],
             [
              0.5555555555555556,
              "#d8576b"
             ],
             [
              0.6666666666666666,
              "#ed7953"
             ],
             [
              0.7777777777777778,
              "#fb9f3a"
             ],
             [
              0.8888888888888888,
              "#fdca26"
             ],
             [
              1,
              "#f0f921"
             ]
            ],
            "type": "histogram2d"
           }
          ],
          "histogram2dcontour": [
           {
            "colorbar": {
             "outlinewidth": 0,
             "ticks": ""
            },
            "colorscale": [
             [
              0,
              "#0d0887"
             ],
             [
              0.1111111111111111,
              "#46039f"
             ],
             [
              0.2222222222222222,
              "#7201a8"
             ],
             [
              0.3333333333333333,
              "#9c179e"
             ],
             [
              0.4444444444444444,
              "#bd3786"
             ],
             [
              0.5555555555555556,
              "#d8576b"
             ],
             [
              0.6666666666666666,
              "#ed7953"
             ],
             [
              0.7777777777777778,
              "#fb9f3a"
             ],
             [
              0.8888888888888888,
              "#fdca26"
             ],
             [
              1,
              "#f0f921"
             ]
            ],
            "type": "histogram2dcontour"
           }
          ],
          "mesh3d": [
           {
            "colorbar": {
             "outlinewidth": 0,
             "ticks": ""
            },
            "type": "mesh3d"
           }
          ],
          "parcoords": [
           {
            "line": {
             "colorbar": {
              "outlinewidth": 0,
              "ticks": ""
             }
            },
            "type": "parcoords"
           }
          ],
          "pie": [
           {
            "automargin": true,
            "type": "pie"
           }
          ],
          "scatter": [
           {
            "fillpattern": {
             "fillmode": "overlay",
             "size": 10,
             "solidity": 0.2
            },
            "type": "scatter"
           }
          ],
          "scatter3d": [
           {
            "line": {
             "colorbar": {
              "outlinewidth": 0,
              "ticks": ""
             }
            },
            "marker": {
             "colorbar": {
              "outlinewidth": 0,
              "ticks": ""
             }
            },
            "type": "scatter3d"
           }
          ],
          "scattercarpet": [
           {
            "marker": {
             "colorbar": {
              "outlinewidth": 0,
              "ticks": ""
             }
            },
            "type": "scattercarpet"
           }
          ],
          "scattergeo": [
           {
            "marker": {
             "colorbar": {
              "outlinewidth": 0,
              "ticks": ""
             }
            },
            "type": "scattergeo"
           }
          ],
          "scattergl": [
           {
            "marker": {
             "colorbar": {
              "outlinewidth": 0,
              "ticks": ""
             }
            },
            "type": "scattergl"
           }
          ],
          "scattermapbox": [
           {
            "marker": {
             "colorbar": {
              "outlinewidth": 0,
              "ticks": ""
             }
            },
            "type": "scattermapbox"
           }
          ],
          "scatterpolar": [
           {
            "marker": {
             "colorbar": {
              "outlinewidth": 0,
              "ticks": ""
             }
            },
            "type": "scatterpolar"
           }
          ],
          "scatterpolargl": [
           {
            "marker": {
             "colorbar": {
              "outlinewidth": 0,
              "ticks": ""
             }
            },
            "type": "scatterpolargl"
           }
          ],
          "scatterternary": [
           {
            "marker": {
             "colorbar": {
              "outlinewidth": 0,
              "ticks": ""
             }
            },
            "type": "scatterternary"
           }
          ],
          "surface": [
           {
            "colorbar": {
             "outlinewidth": 0,
             "ticks": ""
            },
            "colorscale": [
             [
              0,
              "#0d0887"
             ],
             [
              0.1111111111111111,
              "#46039f"
             ],
             [
              0.2222222222222222,
              "#7201a8"
             ],
             [
              0.3333333333333333,
              "#9c179e"
             ],
             [
              0.4444444444444444,
              "#bd3786"
             ],
             [
              0.5555555555555556,
              "#d8576b"
             ],
             [
              0.6666666666666666,
              "#ed7953"
             ],
             [
              0.7777777777777778,
              "#fb9f3a"
             ],
             [
              0.8888888888888888,
              "#fdca26"
             ],
             [
              1,
              "#f0f921"
             ]
            ],
            "type": "surface"
           }
          ],
          "table": [
           {
            "cells": {
             "fill": {
              "color": "#EBF0F8"
             },
             "line": {
              "color": "white"
             }
            },
            "header": {
             "fill": {
              "color": "#C8D4E3"
             },
             "line": {
              "color": "white"
             }
            },
            "type": "table"
           }
          ]
         },
         "layout": {
          "annotationdefaults": {
           "arrowcolor": "#2a3f5f",
           "arrowhead": 0,
           "arrowwidth": 1
          },
          "autotypenumbers": "strict",
          "coloraxis": {
           "colorbar": {
            "outlinewidth": 0,
            "ticks": ""
           }
          },
          "colorscale": {
           "diverging": [
            [
             0,
             "#8e0152"
            ],
            [
             0.1,
             "#c51b7d"
            ],
            [
             0.2,
             "#de77ae"
            ],
            [
             0.3,
             "#f1b6da"
            ],
            [
             0.4,
             "#fde0ef"
            ],
            [
             0.5,
             "#f7f7f7"
            ],
            [
             0.6,
             "#e6f5d0"
            ],
            [
             0.7,
             "#b8e186"
            ],
            [
             0.8,
             "#7fbc41"
            ],
            [
             0.9,
             "#4d9221"
            ],
            [
             1,
             "#276419"
            ]
           ],
           "sequential": [
            [
             0,
             "#0d0887"
            ],
            [
             0.1111111111111111,
             "#46039f"
            ],
            [
             0.2222222222222222,
             "#7201a8"
            ],
            [
             0.3333333333333333,
             "#9c179e"
            ],
            [
             0.4444444444444444,
             "#bd3786"
            ],
            [
             0.5555555555555556,
             "#d8576b"
            ],
            [
             0.6666666666666666,
             "#ed7953"
            ],
            [
             0.7777777777777778,
             "#fb9f3a"
            ],
            [
             0.8888888888888888,
             "#fdca26"
            ],
            [
             1,
             "#f0f921"
            ]
           ],
           "sequentialminus": [
            [
             0,
             "#0d0887"
            ],
            [
             0.1111111111111111,
             "#46039f"
            ],
            [
             0.2222222222222222,
             "#7201a8"
            ],
            [
             0.3333333333333333,
             "#9c179e"
            ],
            [
             0.4444444444444444,
             "#bd3786"
            ],
            [
             0.5555555555555556,
             "#d8576b"
            ],
            [
             0.6666666666666666,
             "#ed7953"
            ],
            [
             0.7777777777777778,
             "#fb9f3a"
            ],
            [
             0.8888888888888888,
             "#fdca26"
            ],
            [
             1,
             "#f0f921"
            ]
           ]
          },
          "colorway": [
           "#636efa",
           "#EF553B",
           "#00cc96",
           "#ab63fa",
           "#FFA15A",
           "#19d3f3",
           "#FF6692",
           "#B6E880",
           "#FF97FF",
           "#FECB52"
          ],
          "font": {
           "color": "#2a3f5f"
          },
          "geo": {
           "bgcolor": "white",
           "lakecolor": "white",
           "landcolor": "#E5ECF6",
           "showlakes": true,
           "showland": true,
           "subunitcolor": "white"
          },
          "hoverlabel": {
           "align": "left"
          },
          "hovermode": "closest",
          "mapbox": {
           "style": "light"
          },
          "paper_bgcolor": "white",
          "plot_bgcolor": "#E5ECF6",
          "polar": {
           "angularaxis": {
            "gridcolor": "white",
            "linecolor": "white",
            "ticks": ""
           },
           "bgcolor": "#E5ECF6",
           "radialaxis": {
            "gridcolor": "white",
            "linecolor": "white",
            "ticks": ""
           }
          },
          "scene": {
           "xaxis": {
            "backgroundcolor": "#E5ECF6",
            "gridcolor": "white",
            "gridwidth": 2,
            "linecolor": "white",
            "showbackground": true,
            "ticks": "",
            "zerolinecolor": "white"
           },
           "yaxis": {
            "backgroundcolor": "#E5ECF6",
            "gridcolor": "white",
            "gridwidth": 2,
            "linecolor": "white",
            "showbackground": true,
            "ticks": "",
            "zerolinecolor": "white"
           },
           "zaxis": {
            "backgroundcolor": "#E5ECF6",
            "gridcolor": "white",
            "gridwidth": 2,
            "linecolor": "white",
            "showbackground": true,
            "ticks": "",
            "zerolinecolor": "white"
           }
          },
          "shapedefaults": {
           "line": {
            "color": "#2a3f5f"
           }
          },
          "ternary": {
           "aaxis": {
            "gridcolor": "white",
            "linecolor": "white",
            "ticks": ""
           },
           "baxis": {
            "gridcolor": "white",
            "linecolor": "white",
            "ticks": ""
           },
           "bgcolor": "#E5ECF6",
           "caxis": {
            "gridcolor": "white",
            "linecolor": "white",
            "ticks": ""
           }
          },
          "title": {
           "x": 0.05
          },
          "xaxis": {
           "automargin": true,
           "gridcolor": "white",
           "linecolor": "white",
           "ticks": "",
           "title": {
            "standoff": 15
           },
           "zerolinecolor": "white",
           "zerolinewidth": 2
          },
          "yaxis": {
           "automargin": true,
           "gridcolor": "white",
           "linecolor": "white",
           "ticks": "",
           "title": {
            "standoff": 15
           },
           "zerolinecolor": "white",
           "zerolinewidth": 2
          }
         }
        },
        "yaxis": {
         "title": {
          "text": "Scores"
         }
        }
       }
      }
     },
     "metadata": {},
     "output_type": "display_data"
    }
   ],
   "source": [
    "fig = go.Figure()\n",
    "\n",
    "cols_metric = [col for col in df_results.columns if col.startswith('test')]\n",
    "colors = ['rgba(93, 164, 214, 0.5)', 'rgba(255, 144, 14, 0.5)', 'rgba(44, 160, 101, 0.5)',\n",
    "          'rgba(255, 65, 54, 0.5)', 'rgba(207, 114, 255, 0.5)', 'rgba(127, 96, 0, 0.5)']\n",
    "\n",
    "for i, metric in enumerate(cols_metric):\n",
    "    fig.add_trace(go.Box(\n",
    "        y=df_results[metric],\n",
    "        x=df_results[\"model\"],\n",
    "        name=metric,\n",
    "        marker_color=colors[i]\n",
    "    ))\n",
    "\n",
    "fig.update_layout(\n",
    "    yaxis_title='Scores',\n",
    "    boxmode='group' # group together boxes of the different traces for each value of x\n",
    ")\n",
    "fig.show()"
   ]
  },
  {
   "cell_type": "markdown",
   "metadata": {},
   "source": [
    "## Go Further with XGBoost"
   ]
  },
  {
   "cell_type": "markdown",
   "metadata": {},
   "source": [
    "### Train and evaluate results"
   ]
  },
  {
   "cell_type": "code",
   "execution_count": 14,
   "metadata": {},
   "outputs": [
    {
     "data": {
      "image/png": "[encoded data removed]",
      "text/plain": [
       "<Figure size 640x480 with 2 Axes>"
      ]
     },
     "metadata": {},
     "output_type": "display_data"
    }
   ],
   "source": [
    "clf = xgb.XGBClassifier().fit(X_train, y_train)\n",
    "\n",
    "cm = confusion_matrix(y_test, clf.predict(X_test))\n",
    "disp = ConfusionMatrixDisplay(confusion_matrix=cm, display_labels=y.categories)\n",
    "disp.plot()\n",
    "plt.title('XGBoost Confusion Matrix')\n",
    "plt.show()"
   ]
  },
  {
   "cell_type": "code",
   "execution_count": 15,
   "metadata": {},
   "outputs": [
    {
     "name": "stdout",
     "output_type": "stream",
     "text": [
      "              precision    recall  f1-score   support\n",
      "\n",
      "         ckd       1.00      0.94      0.97        17\n",
      "      notckd       0.97      1.00      0.99        37\n",
      "\n",
      "    accuracy                           0.98        54\n",
      "   macro avg       0.99      0.97      0.98        54\n",
      "weighted avg       0.98      0.98      0.98        54\n",
      "\n"
     ]
    }
   ],
   "source": [
    "print(classification_report(y_test, clf.predict(X_test), target_names=y.categories))"
   ]
  },
  {
   "cell_type": "markdown",
   "metadata": {},
   "source": [
    "**98%** Accuracy is pretty good result on test set, the model seems to have \"well understood\" the dataset."
   ]
  },
  {
   "cell_type": "markdown",
   "metadata": {},
   "source": [
    "### Interpret Features Importance"
   ]
  },
  {
   "cell_type": "code",
   "execution_count": 16,
   "metadata": {},
   "outputs": [
    {
     "data": {
      "image/png": "[encoded data removed]",
      "text/plain": [
       "<Figure size 640x480 with 1 Axes>"
      ]
     },
     "metadata": {},
     "output_type": "display_data"
    }
   ],
   "source": [
    "xgb.plot_importance(clf, importance_type='weight')\n",
    "plt.title(\"Features Importance for Classification (Weight)\")\n",
    "plt.show()"
   ]
  },
  {
   "cell_type": "code",
   "execution_count": 17,
   "metadata": {},
   "outputs": [
    {
     "data": {
      "image/png": "[encoded data removed]",
      "text/plain": [
       "<Figure size 640x480 with 1 Axes>"
      ]
     },
     "metadata": {},
     "output_type": "display_data"
    }
   ],
   "source": [
    "xgb.plot_importance(clf, importance_type=\"cover\")\n",
    "plt.title(\"Features Importance for Classification (Cover)\")\n",
    "plt.show()"
   ]
  },
  {
   "cell_type": "code",
   "execution_count": 18,
   "metadata": {},
   "outputs": [
    {
     "data": {
      "image/png": "[encoded data removed]",
      "text/plain": [
       "<Figure size 640x480 with 1 Axes>"
      ]
     },
     "metadata": {},
     "output_type": "display_data"
    }
   ],
   "source": [
    "xgb.plot_importance(clf, importance_type=\"gain\")\n",
    "plt.title(\"Features Importance for Classification (Gain)\")\n",
    "plt.show()"
   ]
  },
  {
   "cell_type": "markdown",
   "metadata": {},
   "source": [
    "Here ***hemoglobin***, ***serum creantine***, ***blood glucose random*** and ***presence of red blood cells*** seems to be important features for the model to make a decision.\n",
    "\n",
    "For more informations about interpretability : https://towardsdatascience.com/interpretable-machine-learning-with-xgboost-9ec80d148d27"
   ]
  }
 ],
 "metadata": {
  "kernelspec": {
   "display_name": "Python 3.9.13 ('wemanity-ds-coding-challenge')",
   "language": "python",
   "name": "python3"
  },
  "language_info": {
   "codemirror_mode": {
    "name": "ipython",
    "version": 3
   },
   "file_extension": ".py",
   "mimetype": "text/x-python",
   "name": "python",
   "nbconvert_exporter": "python",
   "pygments_lexer": "ipython3",
   "version": "3.9.13"
  },
  "orig_nbformat": 4,
  "vscode": {
   "interpreter": {
    "hash": "7cfc21b8058289344ee3a0c8f89529b172bdc4042cf518a86e2f28a5d8024ec9"
   }
  }
 },
 "nbformat": 4,
 "nbformat_minor": 2
}
